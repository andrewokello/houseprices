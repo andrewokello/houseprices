{
 "cells": [
  {
   "cell_type": "code",
   "execution_count": null,
   "metadata": {},
   "outputs": [],
   "source": [
    "import numpy as np\n",
    "import pandas as pd\n",
    "from copy import copy\n",
    "from sklearn.preprocessing import LabelEncoder\n",
    "from sklearn.ensemble import RandomForestClassifier\n",
    "from sklearn.model_selection import cross_val_score, KFold\n",
    "from sklearn import metrics"
   ]
  },
  {
   "cell_type": "code",
   "execution_count": null,
   "metadata": {},
   "outputs": [],
   "source": [
    "file_path =\"C:/Users/Andrew Mark/Google Drive/Projects/Kaggle/house prices\"\n",
    "traindf = pd.read_csv(file_path+\"/train.csv\")\n",
    "testdf = pd.read_csv(file_path+\"/test.csv\")\n",
    "subdf = pd.read_csv(file_path+\"/sample_submission.csv\")\n",
    "\n",
    "train = copy(traindf)\n",
    "test = copy(testdf)\n",
    "submission = copy(subdf)"
   ]
  },
  {
   "cell_type": "code",
   "execution_count": null,
   "metadata": {},
   "outputs": [],
   "source": [
    "# add the SalePrice column to the test dataset\n",
    "test['SalePrice'] = submission['SalePrice'].values"
   ]
  },
  {
   "cell_type": "code",
   "execution_count": 271,
   "metadata": {
    "collapsed": true
   },
   "outputs": [
    {
     "name": "stdout",
     "output_type": "stream",
     "text": [
      "<class 'pandas.core.frame.DataFrame'>\n",
      "RangeIndex: 1459 entries, 0 to 1458\n",
      "Data columns (total 81 columns):\n",
      "Id               1459 non-null int64\n",
      "MSSubClass       1459 non-null int64\n",
      "MSZoning         1459 non-null int64\n",
      "LotFrontage      1459 non-null float64\n",
      "LotArea          1459 non-null int64\n",
      "Street           1459 non-null int64\n",
      "Alley            1459 non-null int64\n",
      "LotShape         1459 non-null int64\n",
      "LandContour      1459 non-null int64\n",
      "Utilities        1459 non-null int64\n",
      "LotConfig        1459 non-null int64\n",
      "LandSlope        1459 non-null int64\n",
      "Neighborhood     1459 non-null int64\n",
      "Condition1       1459 non-null int64\n",
      "Condition2       1459 non-null int64\n",
      "BldgType         1459 non-null int64\n",
      "HouseStyle       1459 non-null int64\n",
      "OverallQual      1459 non-null int64\n",
      "OverallCond      1459 non-null int64\n",
      "YearBuilt        1459 non-null int64\n",
      "YearRemodAdd     1459 non-null int64\n",
      "RoofStyle        1459 non-null int64\n",
      "RoofMatl         1459 non-null int64\n",
      "Exterior1st      1459 non-null int64\n",
      "Exterior2nd      1459 non-null int64\n",
      "MasVnrType       1459 non-null int64\n",
      "MasVnrArea       1459 non-null float64\n",
      "ExterQual        1459 non-null int64\n",
      "ExterCond        1459 non-null int64\n",
      "Foundation       1459 non-null int64\n",
      "BsmtQual         1459 non-null int64\n",
      "BsmtCond         1459 non-null int64\n",
      "BsmtExposure     1459 non-null int64\n",
      "BsmtFinType1     1459 non-null int64\n",
      "BsmtFinSF1       1459 non-null float64\n",
      "BsmtFinType2     1459 non-null int64\n",
      "BsmtFinSF2       1459 non-null float64\n",
      "BsmtUnfSF        1459 non-null float64\n",
      "TotalBsmtSF      1459 non-null float64\n",
      "Heating          1459 non-null int64\n",
      "HeatingQC        1459 non-null int64\n",
      "CentralAir       1459 non-null int64\n",
      "Electrical       1459 non-null int64\n",
      "1stFlrSF         1459 non-null int64\n",
      "2ndFlrSF         1459 non-null int64\n",
      "LowQualFinSF     1459 non-null int64\n",
      "GrLivArea        1459 non-null int64\n",
      "BsmtFullBath     1459 non-null float64\n",
      "BsmtHalfBath     1459 non-null float64\n",
      "FullBath         1459 non-null int64\n",
      "HalfBath         1459 non-null int64\n",
      "BedroomAbvGr     1459 non-null int64\n",
      "KitchenAbvGr     1459 non-null int64\n",
      "KitchenQual      1459 non-null int64\n",
      "TotRmsAbvGrd     1459 non-null int64\n",
      "Functional       1459 non-null int64\n",
      "Fireplaces       1459 non-null int64\n",
      "FireplaceQu      1459 non-null int64\n",
      "GarageType       1459 non-null int64\n",
      "GarageYrBlt      1459 non-null float64\n",
      "GarageFinish     1459 non-null int64\n",
      "GarageCars       1459 non-null float64\n",
      "GarageArea       1459 non-null float64\n",
      "GarageQual       1459 non-null int64\n",
      "GarageCond       1459 non-null int64\n",
      "PavedDrive       1459 non-null int64\n",
      "WoodDeckSF       1459 non-null int64\n",
      "OpenPorchSF      1459 non-null int64\n",
      "EnclosedPorch    1459 non-null int64\n",
      "3SsnPorch        1459 non-null int64\n",
      "ScreenPorch      1459 non-null int64\n",
      "PoolArea         1459 non-null int64\n",
      "PoolQC           1459 non-null int64\n",
      "Fence            1459 non-null int64\n",
      "MiscFeature      1459 non-null int64\n",
      "MiscVal          1459 non-null int64\n",
      "MoSold           1459 non-null int64\n",
      "YrSold           1459 non-null int64\n",
      "SaleType         1459 non-null int64\n",
      "SaleCondition    1459 non-null int64\n",
      "SalePrice        1459 non-null float64\n",
      "dtypes: float64(12), int64(69)\n",
      "memory usage: 923.4 KB\n"
     ]
    }
   ],
   "source": [
    "test.info()"
   ]
  },
  {
   "cell_type": "code",
   "execution_count": null,
   "metadata": {},
   "outputs": [],
   "source": [
    "#Filling missing values\n",
    "def fill_missing_values(df):\n",
    "    missing = df.isnull().sum()\n",
    "    missing = missing[missing > 0]\n",
    "    for column in list(missing.index):\n",
    "        if df[column].dtype == 'object':\n",
    "            df[column].fillna(df[column].value_counts().index[0], inplace=True)\n",
    "        elif df[column].dtype == 'int64' or 'float64' or 'int16' or 'float16':\n",
    "            df[column].fillna(df[column].median(), inplace=True)          "
   ]
  },
  {
   "cell_type": "code",
   "execution_count": null,
   "metadata": {},
   "outputs": [],
   "source": [
    "#Converting String to Int\n",
    "def convert (df):\n",
    "    # Find the columns of object type along with their column index\n",
    "    object_cols = list(df.select_dtypes(exclude=[np.number]).columns)\n",
    "    object_cols_ind = []\n",
    "    for col in object_cols:\n",
    "        object_cols_ind.append(df.columns.get_loc(col))\n",
    "\n",
    "    # Encode the categorical columns with numbers    \n",
    "    label_enc = LabelEncoder()\n",
    "    for i in object_cols_ind:\n",
    "        df.iloc[:,i] = label_enc.fit_transform(df.iloc[:,i])"
   ]
  },
  {
   "cell_type": "code",
   "execution_count": null,
   "metadata": {},
   "outputs": [],
   "source": [
    "fill_missing_values(train)\n",
    "fill_missing_values(test)"
   ]
  },
  {
   "cell_type": "code",
   "execution_count": null,
   "metadata": {},
   "outputs": [],
   "source": [
    "convert(train)\n",
    "convert(test)"
   ]
  },
  {
   "cell_type": "code",
   "execution_count": null,
   "metadata": {},
   "outputs": [],
   "source": [
    "print(\"Train Dtype counts: \\n{}\".format(train.dtypes.value_counts()))\n",
    "print(\"Test Dtype counts: \\n{}\".format(test.dtypes.value_counts()))"
   ]
  },
  {
   "cell_type": "code",
   "execution_count": null,
   "metadata": {},
   "outputs": [],
   "source": [
    "train = train.drop(train.index[47])"
   ]
  },
  {
   "cell_type": "code",
   "execution_count": 264,
   "metadata": {},
   "outputs": [],
   "source": [
    "#Machine Learning\n",
    "\n",
    "X_train = train.drop(['SalePrice','Id'], axis=1)\n",
    "y_train = train['SalePrice']\n",
    "\n",
    "X_test = test.drop(['SalePrice','Id'], axis=1)\n",
    "y_test = test['SalePrice']"
   ]
  },
  {
   "cell_type": "code",
   "execution_count": 265,
   "metadata": {},
   "outputs": [],
   "source": [
    "from sklearn import preprocessing\n",
    "lab_enc = preprocessing.LabelEncoder()\n",
    "y_test = lab_enc.fit_transform(y_test)"
   ]
  },
  {
   "cell_type": "code",
   "execution_count": 269,
   "metadata": {},
   "outputs": [],
   "source": [
    "# training and prediction\n",
    "from sklearn.linear_model import LogisticRegression\n",
    "from sklearn.ensemble import RandomForestClassifier,GradientBoostingRegressor\n",
    "from sklearn.naive_bayes import GaussianNB\n",
    "\n",
    "logmodel = LogisticRegression()\n",
    "logmodel.fit(X_train,y_test)\n",
    "lr_pred = logmodel.predict(X_test)\n",
    "\n",
    "rf = RandomForestClassifier(n_estimators = 100)\n",
    "rf.fit(X_train, y_test)\n",
    "rf_pred = rf.predict(X_test)\n",
    "\n",
    "gnb = GaussianNB()\n",
    "gnb.fit(X_train, y_test)\n",
    "gnb_pred = gnb.predict(X_test)\n",
    "\n",
    "g_boost = GradientBoostingRegressor( n_estimators=6000, learning_rate=0.01,max_depth=5, max_features='sqrt',\n",
    "                                    min_samples_leaf=15, min_samples_split=10, loss='ls', random_state =101)\n",
    "g_boost.fit(X_train,y_test)\n",
    "gbm_pred = g_boost.predict(X_test)"
   ]
  },
  {
   "cell_type": "code",
   "execution_count": 268,
   "metadata": {},
   "outputs": [
    {
     "name": "stdout",
     "output_type": "stream",
     "text": [
      "Logistic Regression RMSE: \t 35648877686.686775\n",
      "Random Forest RMSE: \t\t 417467.11857436603\n",
      "Naive Bayes RMSE: \t\t 215462.15147361206\n",
      "Gradient Boosting RMSE: \t 215462.15147361206\n",
      "\n",
      "\n"
     ]
    }
   ],
   "source": [
    "print(\"Logistic Regression RMSE: \\t\",metrics.mean_squared_error(y_test, lr_pred))\n",
    "print(\"Random Forest RMSE: \\t\\t\", metrics.mean_squared_error(y_test, rf_pred))\n",
    "print(\"Naive Bayes RMSE: \\t\\t\", metrics.mean_squared_error(y_test, gnb_pred))\n",
    "print(\"Gradient Boosting RMSE: \\t\", metrics.mean_squared_error(y_test, gnb_pred))\n",
    "print(\"\\n\")"
   ]
  },
  {
   "cell_type": "code",
   "execution_count": null,
   "metadata": {
    "scrolled": true
   },
   "outputs": [],
   "source": [
    "submission = pd.DataFrame()\n",
    "submission['Id'] = np.array(test.index)\n",
    "submission['SalePrice'] = prediction\n",
    "submission.to_csv('house.csv', index=False)"
   ]
  },
  {
   "cell_type": "code",
   "execution_count": null,
   "metadata": {
    "colab": {},
    "colab_type": "code",
    "id": "6TNVW5jY_HVB"
   },
   "outputs": [],
   "source": []
  }
 ],
 "metadata": {
  "colab": {
   "collapsed_sections": [],
   "name": "House Prices",
   "provenance": [],
   "version": "0.3.2"
  },
  "kernelspec": {
   "display_name": "Python 3",
   "language": "python",
   "name": "python3"
  },
  "language_info": {
   "codemirror_mode": {
    "name": "ipython",
    "version": 3
   },
   "file_extension": ".py",
   "mimetype": "text/x-python",
   "name": "python",
   "nbconvert_exporter": "python",
   "pygments_lexer": "ipython3",
   "version": "3.7.0"
  }
 },
 "nbformat": 4,
 "nbformat_minor": 1
}
